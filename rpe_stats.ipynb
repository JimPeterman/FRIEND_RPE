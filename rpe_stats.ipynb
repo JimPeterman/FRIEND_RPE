{
 "cells": [
  {
   "cell_type": "code",
   "execution_count": 1,
   "id": "643a3bdf",
   "metadata": {},
   "outputs": [],
   "source": [
    "import pandas as pd\n",
    "import numpy as np\n",
    "import pickle\n",
    "\n",
    "import statsmodels.api as sm\n",
    "from statsmodels.formula.api import ols\n",
    "\n",
    "from statsmodels.stats.multicomp import pairwise_tukeyhsd\n"
   ]
  },
  {
   "cell_type": "markdown",
   "id": "876b08e9",
   "metadata": {},
   "source": [
    "# Perform statistical analysis on dataset."
   ]
  },
  {
   "cell_type": "code",
   "execution_count": 2,
   "id": "78409529",
   "metadata": {},
   "outputs": [],
   "source": [
    "with open('../data/cleaned_dataframe.pickle','rb') as read_file:\n",
    "    df = pickle.load(read_file)"
   ]
  },
  {
   "cell_type": "code",
   "execution_count": 3,
   "id": "dfad7490",
   "metadata": {},
   "outputs": [
    {
     "name": "stdout",
     "output_type": "stream",
     "text": [
      "<class 'pandas.core.frame.DataFrame'>\n",
      "Int64Index: 9551 entries, 4116 to 120626\n",
      "Data columns (total 24 columns):\n",
      " #   Column          Non-Null Count  Dtype         \n",
      "---  ------          --------------  -----         \n",
      " 0   ID              9304 non-null   object        \n",
      " 1   Facility        9551 non-null   object        \n",
      " 2   testdate        9373 non-null   datetime64[ns]\n",
      " 3   ageattest       9551 non-null   float64       \n",
      " 4   Gender          9551 non-null   object        \n",
      " 5   Country         9551 non-null   object        \n",
      " 6   ethnicgroup     4517 non-null   object        \n",
      " 7   height          9551 non-null   float64       \n",
      " 8   weight          9551 non-null   float64       \n",
      " 9   BMI             9551 non-null   float64       \n",
      " 10  BetaMed         9286 non-null   float64       \n",
      " 11  ANYCVD          9551 non-null   float64       \n",
      " 12  COPD            8667 non-null   float64       \n",
      " 13  Mode            9551 non-null   object        \n",
      " 14  max_load_watts  755 non-null    object        \n",
      " 15  max_rer         9551 non-null   float64       \n",
      " 16  vo2_l_min       9137 non-null   float64       \n",
      " 17  vo2_ml_kg_min   9551 non-null   float64       \n",
      " 18  max_hr          9544 non-null   float64       \n",
      " 19  peak_rpe        9551 non-null   int64         \n",
      " 20  FRIEND_perc     9551 non-null   float64       \n",
      " 21  age_group       9551 non-null   object        \n",
      " 22  weightSI        9551 non-null   float64       \n",
      " 23  heightSI        9551 non-null   float64       \n",
      "dtypes: datetime64[ns](1), float64(14), int64(1), object(8)\n",
      "memory usage: 1.8+ MB\n"
     ]
    }
   ],
   "source": [
    "df.info()"
   ]
  },
  {
   "cell_type": "code",
   "execution_count": 4,
   "id": "fbbbc912",
   "metadata": {},
   "outputs": [
    {
     "data": {
      "text/plain": [
       "MAYO                           4937\n",
       "Ball State                     3210\n",
       "Hartford Hospital               254\n",
       "Pennington                      247\n",
       "MCH                             204\n",
       "KUMC                            202\n",
       "JHU                             157\n",
       "University of Massachusetts     157\n",
       "SCSU                             78\n",
       "SAMMC                            72\n",
       "SFSU                             21\n",
       "U Montana                         9\n",
       "GHCPS                             3\n",
       "Name: Facility, dtype: int64"
      ]
     },
     "execution_count": 4,
     "metadata": {},
     "output_type": "execute_result"
    }
   ],
   "source": [
    "df.Facility.value_counts()"
   ]
  },
  {
   "cell_type": "markdown",
   "id": "80253279",
   "metadata": {},
   "source": [
    "### Treadmill test analysis."
   ]
  },
  {
   "cell_type": "code",
   "execution_count": 5,
   "id": "11fb82e5",
   "metadata": {},
   "outputs": [
    {
     "name": "stdout",
     "output_type": "stream",
     "text": [
      "                            df        sum_sq    mean_sq         F  \\\n",
      "C(age_group)               6.0     82.563298  13.760550  8.243699   \n",
      "C(Gender)                  1.0      0.191692   0.191692  0.114839   \n",
      "C(age_group):C(Gender)     6.0     12.865057   2.144176  1.284538   \n",
      "Residual                8807.0  14700.822986   1.669220       NaN   \n",
      "\n",
      "                              PR(>F)  \n",
      "C(age_group)            6.389022e-09  \n",
      "C(Gender)               7.347086e-01  \n",
      "C(age_group):C(Gender)  2.604745e-01  \n",
      "Residual                         NaN  \n"
     ]
    }
   ],
   "source": [
    "# Performing two-way ANOVA on TREADMILL tests to examine age and sex impact on RPE.\n",
    "\n",
    "model_TM = ols('peak_rpe ~ C(age_group) + C(Gender) + C(age_group):C(Gender)',\n",
    "            data=df[df.Mode==\"TM\"]).fit()\n",
    "result_TM = sm.stats.anova_lm(model_TM, type=2)\n",
    "  \n",
    "# Print the result\n",
    "print(result_TM)"
   ]
  },
  {
   "cell_type": "code",
   "execution_count": 8,
   "id": "5c0c004b",
   "metadata": {},
   "outputs": [],
   "source": [
    "# Tukey post-hoc analysis for pair-wise comparisons.\n",
    "# (only looking at within age based on results above).\n",
    "\n",
    "tukey = pairwise_tukeyhsd(endog=df[df.Mode==\"TM\"]['peak_rpe'],\n",
    "                          groups=df[df.Mode==\"TM\"]['age_group'],\n",
    "                          alpha=0.05)\n",
    "# print(tukey)"
   ]
  },
  {
   "cell_type": "code",
   "execution_count": null,
   "id": "d2a05492",
   "metadata": {},
   "outputs": [],
   "source": []
  },
  {
   "cell_type": "markdown",
   "id": "89231950",
   "metadata": {},
   "source": [
    "### Cycling test analysis.\n"
   ]
  },
  {
   "cell_type": "code",
   "execution_count": 10,
   "id": "566bab09",
   "metadata": {},
   "outputs": [
    {
     "name": "stdout",
     "output_type": "stream",
     "text": [
      "                           df       sum_sq   mean_sq         F    PR(>F)\n",
      "C(age_group)              6.0    43.641578  7.273596  4.684638  0.000109\n",
      "C(Gender)                 1.0     8.708110  8.708110  5.608552  0.018138\n",
      "C(age_group):C(Gender)    6.0     4.606137  0.767689  0.494439  0.812757\n",
      "Residual                716.0  1111.696231  1.552648       NaN       NaN\n"
     ]
    }
   ],
   "source": [
    "# Performing two-way ANOVA on CYCLING tests to examine age and sex impact on RPE.\n",
    "\n",
    "model_CY = ols('peak_rpe ~ C(age_group) + C(Gender) + C(age_group):C(Gender)',\n",
    "            data=df[df.Mode==\"CY\"]).fit()\n",
    "result_CY = sm.stats.anova_lm(model_CY, type=2)\n",
    "  \n",
    "# Print the result\n",
    "print(result_CY)"
   ]
  },
  {
   "cell_type": "code",
   "execution_count": 13,
   "id": "8d8a59ba",
   "metadata": {},
   "outputs": [],
   "source": [
    "# Tukey post-hoc analysis for pair-wise comparisons.\n",
    "# (looking at age based on results above).\n",
    "\n",
    "tukey = pairwise_tukeyhsd(endog=df[df.Mode==\"CY\"]['peak_rpe'],\n",
    "                          groups=df[df.Mode==\"CY\"]['age_group'],\n",
    "                          alpha=0.05)\n",
    "# print(tukey)"
   ]
  },
  {
   "cell_type": "code",
   "execution_count": null,
   "id": "ae9285e5",
   "metadata": {},
   "outputs": [],
   "source": []
  },
  {
   "cell_type": "code",
   "execution_count": 15,
   "id": "9373820d",
   "metadata": {},
   "outputs": [],
   "source": [
    "# Performing three-way ANOVA (same as above but including test mode).\n",
    "\n",
    "model = ols('peak_rpe ~ C(age_group) + C(Gender) + C(Mode)',\n",
    "            data=df).fit()\n",
    "result = sm.stats.anova_lm(model, type=2)\n",
    "  \n",
    "# Print the result\n",
    "# print(result)"
   ]
  },
  {
   "cell_type": "code",
   "execution_count": null,
   "id": "58cb3c04",
   "metadata": {},
   "outputs": [],
   "source": []
  }
 ],
 "metadata": {
  "kernelspec": {
   "display_name": "Python 3",
   "language": "python",
   "name": "python3"
  },
  "language_info": {
   "codemirror_mode": {
    "name": "ipython",
    "version": 3
   },
   "file_extension": ".py",
   "mimetype": "text/x-python",
   "name": "python",
   "nbconvert_exporter": "python",
   "pygments_lexer": "ipython3",
   "version": "3.8.11"
  }
 },
 "nbformat": 4,
 "nbformat_minor": 5
}
