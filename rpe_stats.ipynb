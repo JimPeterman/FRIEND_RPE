{
 "cells": [
  {
   "cell_type": "code",
   "execution_count": 1,
   "id": "643a3bdf",
   "metadata": {},
   "outputs": [],
   "source": [
    "import pandas as pd\n",
    "import numpy as np\n",
    "import pickle\n",
    "\n",
    "import statsmodels.api as sm\n",
    "from statsmodels.formula.api import ols\n",
    "\n",
    "from statsmodels.stats.multicomp import pairwise_tukeyhsd\n"
   ]
  },
  {
   "cell_type": "markdown",
   "id": "876b08e9",
   "metadata": {},
   "source": [
    "# Perform statistical analysis on dataset."
   ]
  },
  {
   "cell_type": "code",
   "execution_count": 2,
   "id": "78409529",
   "metadata": {},
   "outputs": [],
   "source": [
    "with open('../data/cleaned_dataframe.pickle','rb') as read_file:\n",
    "    df = pickle.load(read_file)"
   ]
  },
  {
   "cell_type": "markdown",
   "id": "80253279",
   "metadata": {},
   "source": [
    "### Treadmill test analysis."
   ]
  },
  {
   "cell_type": "code",
   "execution_count": 6,
   "id": "11fb82e5",
   "metadata": {},
   "outputs": [
    {
     "name": "stdout",
     "output_type": "stream",
     "text": [
      "                             df        sum_sq    mean_sq          F  \\\n",
      "C(age_group)                6.0    147.897280  24.649547  13.595357   \n",
      "C(Gender)                   1.0      3.407310   3.407310   1.879288   \n",
      "C(age_group):C(Gender)      6.0     20.717468   3.452911   1.904439   \n",
      "Residual                11123.0  20166.951993   1.813086        NaN   \n",
      "\n",
      "                              PR(>F)  \n",
      "C(age_group)            1.934796e-15  \n",
      "C(Gender)               1.704428e-01  \n",
      "C(age_group):C(Gender)  7.615521e-02  \n",
      "Residual                         NaN  \n"
     ]
    }
   ],
   "source": [
    "# Performing two-way ANOVA on TREADMILL tests to examine age and sex impact on RPE.\n",
    "\n",
    "model_TM = ols('peak_rpe ~ C(age_group) + C(Gender) + C(age_group):C(Gender)',\n",
    "            data=df[df.Mode==\"TM\"]).fit()\n",
    "result_TM = sm.stats.anova_lm(model_TM, type=2)\n",
    "  \n",
    "# Print the result\n",
    "print(result_TM)"
   ]
  },
  {
   "cell_type": "code",
   "execution_count": 4,
   "id": "5c0c004b",
   "metadata": {},
   "outputs": [],
   "source": [
    "# Tukey post-hoc analysis for pair-wise comparisons.\n",
    "# (only looking at within age based on results above).\n",
    "\n",
    "tukey = pairwise_tukeyhsd(endog=df[df.Mode==\"TM\"]['peak_rpe'],\n",
    "                          groups=df[df.Mode==\"TM\"]['age_group'],\n",
    "                          alpha=0.05)\n",
    "# print(tukey)"
   ]
  },
  {
   "cell_type": "code",
   "execution_count": null,
   "id": "d2a05492",
   "metadata": {},
   "outputs": [],
   "source": []
  },
  {
   "cell_type": "markdown",
   "id": "89231950",
   "metadata": {},
   "source": [
    "### Cycling test analysis.\n"
   ]
  },
  {
   "cell_type": "code",
   "execution_count": 5,
   "id": "566bab09",
   "metadata": {},
   "outputs": [
    {
     "name": "stdout",
     "output_type": "stream",
     "text": [
      "                           df       sum_sq   mean_sq         F    PR(>F)\n",
      "C(age_group)              6.0    45.651408  7.608568  4.899036  0.000061\n",
      "C(Gender)                 1.0     3.782731  3.782731  2.435640  0.118954\n",
      "C(age_group):C(Gender)    6.0     2.613083  0.435514  0.280420  0.946299\n",
      "Residual                909.0  1411.744760  1.553075       NaN       NaN\n"
     ]
    }
   ],
   "source": [
    "# Performing two-way ANOVA on CYCLING tests to examine age and sex impact on RPE.\n",
    "\n",
    "model_CY = ols('peak_rpe ~ C(age_group) + C(Gender) + C(age_group):C(Gender)',\n",
    "            data=df[df.Mode==\"CY\"]).fit()\n",
    "result_CY = sm.stats.anova_lm(model_CY, type=2)\n",
    "  \n",
    "# Print the result\n",
    "# print(result_CY)"
   ]
  },
  {
   "cell_type": "code",
   "execution_count": 6,
   "id": "8d8a59ba",
   "metadata": {},
   "outputs": [],
   "source": [
    "# Tukey post-hoc analysis for pair-wise comparisons.\n",
    "# (only looking at within age based on results above).\n",
    "\n",
    "tukey = pairwise_tukeyhsd(endog=df[df.Mode==\"CY\"]['peak_rpe'],\n",
    "                          groups=df[df.Mode==\"CY\"]['age_group'],\n",
    "                          alpha=0.05)\n",
    "# print(tukey)"
   ]
  },
  {
   "cell_type": "code",
   "execution_count": null,
   "id": "ae9285e5",
   "metadata": {},
   "outputs": [],
   "source": []
  },
  {
   "cell_type": "code",
   "execution_count": 4,
   "id": "9373820d",
   "metadata": {},
   "outputs": [],
   "source": [
    "# Performing three-way ANOVA (same as above but including test mode).\n",
    "\n",
    "model = ols('peak_rpe ~ C(age_group) + C(Gender) + C(Mode)',\n",
    "            data=df).fit()\n",
    "result = sm.stats.anova_lm(model, type=2)\n",
    "  \n",
    "# Print the result\n",
    "# print(result)"
   ]
  },
  {
   "cell_type": "code",
   "execution_count": null,
   "id": "58cb3c04",
   "metadata": {},
   "outputs": [],
   "source": []
  }
 ],
 "metadata": {
  "kernelspec": {
   "display_name": "Python 3",
   "language": "python",
   "name": "python3"
  },
  "language_info": {
   "codemirror_mode": {
    "name": "ipython",
    "version": 3
   },
   "file_extension": ".py",
   "mimetype": "text/x-python",
   "name": "python",
   "nbconvert_exporter": "python",
   "pygments_lexer": "ipython3",
   "version": "3.8.11"
  }
 },
 "nbformat": 4,
 "nbformat_minor": 5
}
