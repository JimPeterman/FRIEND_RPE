{
 "cells": [
  {
   "cell_type": "code",
   "execution_count": 1,
   "id": "92efba52",
   "metadata": {},
   "outputs": [],
   "source": [
    "import pandas as pd\n",
    "import numpy as np\n",
    "import pickle\n",
    "\n",
    "from ref_calcs import friend_percentile\n"
   ]
  },
  {
   "cell_type": "markdown",
   "id": "af8b368d",
   "metadata": {},
   "source": [
    "# Create dataset of interest for RPE analysis.\n",
    "\n",
    "Load the entire FRIEND dataset and then filter/clean for an analysis on RPE. Inclusion criteria include:\n",
    "- RPE assessed with the Borg scale (6-20 scale).\n",
    "- Treadmill or cycling test.\n",
    "- 20-90 years old.\n",
    "- RER >= 1.0 (for max effort).\n",
    "- Apparently healthy (no CVD, COPD, or beta blocker meds).\n",
    "- Only USA data.\n"
   ]
  },
  {
   "cell_type": "code",
   "execution_count": 2,
   "id": "65d65bdb",
   "metadata": {},
   "outputs": [],
   "source": [
    "# Only need these columns from the FRIEND dataset.\n",
    "col_interest = [\"ID\", \"Facility\", \"ageattest\", \"testdate\", \"Gender\", \"Country\", \n",
    "               \"weight\", \"height\", \"BMI\", \"ANYCVD\", \"COPD\", \"BetaMed\",\n",
    "                \"Mode\", \"vo2_ml_kg_min\", \"vo2_l_min\", \"max_hr\", \"max_rer\",\n",
    "                \"max_load_watts\", \"peak_rpe\", \"ethnicgroup\"]\n",
    "\n",
    "df_full = pd.read_excel('../data/FRIEND_dataset_with_City_3_14_22.xlsx',\n",
    "                        usecols=col_interest)\n"
   ]
  },
  {
   "cell_type": "markdown",
   "id": "774c8459",
   "metadata": {},
   "source": [
    "### If needing to use MET-test data then need to use only what's previously been used in publications.\n",
    "\n",
    "In this case, MET-test didn't report RPE to FRIEND so they're not going to be included in the analysis anyway."
   ]
  },
  {
   "cell_type": "code",
   "execution_count": 3,
   "id": "8c2da031",
   "metadata": {},
   "outputs": [],
   "source": [
    "# # Import the \"cleaned\" MET-test dataset that was used in previous pubs.\n",
    "# # Kaminsky et al. 2017, MCP\n",
    "# df_met = pd.read_excel('../data/CLEANED MET-test FRIEND Cycling data_4_25_2021.xlsx',\n",
    "#                        usecols=col_interest)\n"
   ]
  },
  {
   "cell_type": "code",
   "execution_count": 4,
   "id": "5de1b9a5",
   "metadata": {},
   "outputs": [],
   "source": [
    "# # Filter out the \"unwanted\" MET-test from FRIEND dataset.\n",
    "# df_full = df_full.query(\"Facility != 'MET-test'\")\n",
    "\n",
    "# # Add in the \"wanted\" MET-test data.\n",
    "# df = df_full.append(df_met)"
   ]
  },
  {
   "cell_type": "code",
   "execution_count": 5,
   "id": "a64e7db0",
   "metadata": {},
   "outputs": [],
   "source": [
    "df = df_full"
   ]
  },
  {
   "cell_type": "markdown",
   "id": "56a83a03",
   "metadata": {},
   "source": [
    "### Dropping tests/ Cleaning up dataset."
   ]
  },
  {
   "cell_type": "code",
   "execution_count": 6,
   "id": "d82d0d5c",
   "metadata": {},
   "outputs": [],
   "source": [
    "df = df.query('Gender == \"Female\" | Gender == \"Male\"')"
   ]
  },
  {
   "cell_type": "code",
   "execution_count": 7,
   "id": "d2170980",
   "metadata": {},
   "outputs": [],
   "source": [
    "df = df.query('Country == \"USA\"')"
   ]
  },
  {
   "cell_type": "code",
   "execution_count": 8,
   "id": "ebb04e28",
   "metadata": {},
   "outputs": [],
   "source": [
    "df = df.query('Mode == \"TM\" | Mode == \"CY\"')"
   ]
  },
  {
   "cell_type": "code",
   "execution_count": 9,
   "id": "8f81d14d",
   "metadata": {},
   "outputs": [],
   "source": [
    "df = df.query('ageattest >= 20 & ageattest <90')"
   ]
  },
  {
   "cell_type": "code",
   "execution_count": 10,
   "id": "fb87ed5b",
   "metadata": {},
   "outputs": [],
   "source": [
    "df = df.query('max_rer >= 1.0')"
   ]
  },
  {
   "cell_type": "code",
   "execution_count": 11,
   "id": "3c8ccedc",
   "metadata": {},
   "outputs": [],
   "source": [
    "# Height and weight outliers become null.\n",
    "\n",
    "df[\"height\"] = np.where(df[\"height\"] < 50, np.nan, df[\"height\"])\n",
    "df[\"height\"] = np.where(df[\"height\"] > 90, np.nan, df[\"height\"])\n",
    "\n",
    "df[\"weight\"] = np.where(df[\"weight\"] < 30, np.nan, df[\"weight\"])"
   ]
  },
  {
   "cell_type": "code",
   "execution_count": 12,
   "id": "89d964f4",
   "metadata": {},
   "outputs": [],
   "source": [
    "# Drops those with 0 for height, weight, age, or VO2.\n",
    "\n",
    "df['weight'] = df['weight'].astype(float)\n",
    "df['height'] = df['height'].astype(float)\n",
    "df['ageattest'] = df['ageattest'].astype(float)\n",
    "df['vo2_ml_kg_min'] = df['vo2_ml_kg_min'].astype(float)\n",
    "\n",
    "df = df.dropna(how=\"any\", subset=['height','weight','ageattest','vo2_ml_kg_min'])\n",
    "\n",
    "df = df.query('height > 0 & weight > 0')\n",
    "df = df.query('ageattest > 0 & vo2_ml_kg_min > 0')"
   ]
  },
  {
   "cell_type": "code",
   "execution_count": 13,
   "id": "bdface76",
   "metadata": {},
   "outputs": [],
   "source": [
    "# Drops those with CVD (but keeps those with CVD missing).\n",
    "\n",
    "# the .ge is 'greater than or equal' (AND KEEPS nan).\n",
    "filt = (df['ANYCVD'].ge(1))\n",
    "df=df[~filt]"
   ]
  },
  {
   "cell_type": "code",
   "execution_count": 14,
   "id": "3009f089",
   "metadata": {},
   "outputs": [],
   "source": [
    "# Drops those with COPD (but keeps those with COPD missing (a lot of sites)).\n",
    "\n",
    "df['COPD'] = df['COPD'].astype(float)\n",
    "filt = (df['COPD'].ge(1))\n",
    "df=df[~filt]"
   ]
  },
  {
   "cell_type": "code",
   "execution_count": 15,
   "id": "3c6020ee",
   "metadata": {},
   "outputs": [],
   "source": [
    "# Drops those taking beta meds (but keeps missing beta meds).\n",
    "\n",
    "df['BetaMed'] = df['BetaMed'].astype(float)\n",
    "filt = (df['BetaMed']).ge(1)\n",
    "df=df[~filt]"
   ]
  },
  {
   "cell_type": "code",
   "execution_count": 16,
   "id": "19151442",
   "metadata": {},
   "outputs": [],
   "source": [
    "# All tests need to include RPE for this analysis.\n",
    "\n",
    "df = df.dropna(axis=0, subset=[\"peak_rpe\"])"
   ]
  },
  {
   "cell_type": "code",
   "execution_count": 17,
   "id": "0cd6e394",
   "metadata": {},
   "outputs": [],
   "source": [
    "# Convert string dates to date time.\n",
    "\n",
    "df[\"testdate\"] = pd.to_datetime(df[\"testdate\"])"
   ]
  },
  {
   "cell_type": "code",
   "execution_count": 18,
   "id": "8b700a7d",
   "metadata": {},
   "outputs": [],
   "source": [
    "# If max HR is >250 or < 30, make the value missing.\n",
    "df['max_hr'] = pd.to_numeric(df['max_hr'], errors='coerce')\n",
    "\n",
    "df['max_hr'].values[df['max_hr'].values > 250] = None\n",
    "df['max_hr'].values[df['max_hr'].values < 30] = None"
   ]
  },
  {
   "cell_type": "code",
   "execution_count": null,
   "id": "6b1829c7",
   "metadata": {},
   "outputs": [],
   "source": []
  },
  {
   "cell_type": "markdown",
   "id": "831dfac4",
   "metadata": {},
   "source": [
    "### Determine which sites used Borg scale for RPE (then drop others)."
   ]
  },
  {
   "cell_type": "code",
   "execution_count": 19,
   "id": "741a6e71",
   "metadata": {},
   "outputs": [
    {
     "name": "stdout",
     "output_type": "stream",
     "text": [
      "JHU\n",
      "min RPE: 9.0; max RPE: 20.0\n",
      "Number of tests below 11: 1 (0%)\n",
      "Number of tests above 11: 329 (100%)\n",
      "\n",
      "\n",
      "KUMC\n",
      "min RPE: 13.0; max RPE: 20.0\n",
      "Number of tests below 11: 0 (0%)\n",
      "Number of tests above 11: 218 (100%)\n",
      "\n",
      "\n",
      "MCH\n",
      "min RPE: 9.0; max RPE: 20.0\n",
      "Number of tests below 11: 1 (0%)\n",
      "Number of tests above 11: 259 (100%)\n",
      "\n",
      "\n",
      "Pennington\n",
      "min RPE: 2.0; max RPE: 20.0\n",
      "Number of tests below 11: 5 (1%)\n",
      "Number of tests above 11: 336 (99%)\n",
      "\n",
      "\n",
      "SAMMC\n",
      "min RPE: 13.0; max RPE: 118.0\n",
      "Number of tests below 11: 0 (0%)\n",
      "Number of tests above 11: 100 (100%)\n",
      "\n",
      "\n",
      "SCSU\n",
      "min RPE: 6.0; max RPE: 20.0\n",
      "Number of tests below 11: 2 (2%)\n",
      "Number of tests above 11: 84 (98%)\n",
      "\n",
      "\n",
      "SFSU\n",
      "min RPE: 14.0; max RPE: 20.0\n",
      "Number of tests below 11: 0 (0%)\n",
      "Number of tests above 11: 36 (100%)\n",
      "\n",
      "\n",
      "Hartford Hospital\n",
      "min RPE: 9.0; max RPE: 20.0\n",
      "Number of tests below 11: 1 (0%)\n",
      "Number of tests above 11: 443 (100%)\n",
      "\n",
      "\n",
      "University of Massachusetts\n",
      "min RPE: 11.0; max RPE: 20.0\n",
      "Number of tests below 11: 0 (0%)\n",
      "Number of tests above 11: 327 (100%)\n",
      "\n",
      "\n",
      "GHCPS\n",
      "min RPE: 19.0; max RPE: 20.0\n",
      "Number of tests below 11: 0 (0%)\n",
      "Number of tests above 11: 4 (100%)\n",
      "\n",
      "\n",
      "SFU\n",
      "min RPE: 7.0; max RPE: 10.0\n",
      "Number of tests below 11: 11 (100%)\n",
      "Number of tests above 11: 0 (0%)\n",
      "\n",
      "\n",
      "U Montana\n",
      "min RPE: 15.0; max RPE: 20.0\n",
      "Number of tests below 11: 0 (0%)\n",
      "Number of tests above 11: 14 (100%)\n",
      "\n",
      "\n",
      "Ball State\n",
      "min RPE: 5.0; max RPE: 20.0\n",
      "Number of tests below 11: 28 (1%)\n",
      "Number of tests above 11: 3821 (99%)\n",
      "\n",
      "\n",
      "MAYO\n",
      "min RPE: 8.0; max RPE: 20.0\n",
      "Number of tests below 11: 9 (0%)\n",
      "Number of tests above 11: 6076 (100%)\n",
      "\n",
      "\n",
      "TUKHS\n",
      "min RPE: 2.0; max RPE: 10.0\n",
      "Number of tests below 11: 37 (100%)\n",
      "Number of tests above 11: 0 (0%)\n",
      "\n",
      "\n"
     ]
    }
   ],
   "source": [
    "for site in df.Facility.unique():\n",
    "    temp_df = df.query(f\"Facility == '{site}'\")\n",
    "    print(site)\n",
    "    print(f\"min RPE: {min(temp_df.peak_rpe)}; max RPE: {max(temp_df.peak_rpe)}\")\n",
    "    \n",
    "    print(f\"Number of tests below 11: {sum(temp_df.peak_rpe < 11)} ({sum(temp_df.peak_rpe < 11)/len(temp_df):.0%})\")\n",
    "    print(f\"Number of tests above 11: {sum(temp_df.peak_rpe > 10)} ({sum(temp_df.peak_rpe > 10)/len(temp_df):.0%})\")\n",
    "    print(\"\\n\")"
   ]
  },
  {
   "cell_type": "code",
   "execution_count": 20,
   "id": "f910e3ef",
   "metadata": {},
   "outputs": [],
   "source": [
    "# Drop those sites with 100% of tests with RPE <11 (so most likely NOT using Borg scale).\n",
    "\n",
    "df = df.query(\"Facility != 'SFU' & Facility != 'TUKHS'\")"
   ]
  },
  {
   "cell_type": "code",
   "execution_count": 21,
   "id": "225b397b",
   "metadata": {},
   "outputs": [],
   "source": [
    "# Drop those with RPE < 10 (these individuals clearly didn't understand the scale).\n",
    "\n",
    "df = df.query(\"peak_rpe >= 10\")"
   ]
  },
  {
   "cell_type": "code",
   "execution_count": 22,
   "id": "94223f76",
   "metadata": {},
   "outputs": [],
   "source": [
    "# Fix RPE value entered incorrectly.\n",
    "\n",
    "df[\"peak_rpe\"] = np.where((df[\"peak_rpe\"]==118.0) & (df[\"Facility\"] == \"SAMMC\"),\n",
    "                          18.0, df[\"peak_rpe\"])"
   ]
  },
  {
   "cell_type": "code",
   "execution_count": 23,
   "id": "8e0619e6",
   "metadata": {},
   "outputs": [],
   "source": [
    "# Drop tests in which the RPE is not a whole number within the Borg scale.\n",
    "# Instructions for scale say you have to use a whole number.\n",
    "\n",
    "df = df[df[\"peak_rpe\"].isin(list(range(10,21)))]"
   ]
  },
  {
   "cell_type": "code",
   "execution_count": 24,
   "id": "23aa3641",
   "metadata": {},
   "outputs": [],
   "source": [
    "# Convert RPE to integer (for cleaner graphs).\n",
    "\n",
    "df[\"peak_rpe\"] = df[\"peak_rpe\"].apply(lambda x: int(x))"
   ]
  },
  {
   "cell_type": "code",
   "execution_count": null,
   "id": "67ea778b",
   "metadata": {},
   "outputs": [],
   "source": []
  },
  {
   "cell_type": "markdown",
   "id": "32e2061e",
   "metadata": {},
   "source": [
    "### Add some variables."
   ]
  },
  {
   "cell_type": "code",
   "execution_count": 25,
   "id": "69a3557b",
   "metadata": {},
   "outputs": [],
   "source": [
    "# Add in the FRIEND fitness percentiles.\n",
    "\n",
    "df[\"FRIEND_perc\"] = df.apply(lambda x: friend_percentile(x.vo2_ml_kg_min, x.ageattest, x.Gender, x.Mode),\n",
    "                            axis=1)"
   ]
  },
  {
   "cell_type": "code",
   "execution_count": 26,
   "id": "413a9ca5",
   "metadata": {},
   "outputs": [],
   "source": [
    "df[\"age_group\"] = df.ageattest.apply(lambda x: f\"{str(x)[0]}0s\")"
   ]
  },
  {
   "cell_type": "code",
   "execution_count": 27,
   "id": "acfdac87",
   "metadata": {},
   "outputs": [],
   "source": [
    "# Create SI units for height and weight.\n",
    "\n",
    "df['weightSI'] = (df['weight'] / 2.205)\n",
    "df['heightSI'] = (df['height'] * 2.54)"
   ]
  },
  {
   "cell_type": "code",
   "execution_count": null,
   "id": "ee98e3ef",
   "metadata": {},
   "outputs": [],
   "source": []
  },
  {
   "cell_type": "markdown",
   "id": "0113c6f9",
   "metadata": {},
   "source": [
    "### Save as a pickle file for analysis."
   ]
  },
  {
   "cell_type": "code",
   "execution_count": 28,
   "id": "d31751fc",
   "metadata": {},
   "outputs": [],
   "source": [
    "with open('../data/cleaned_dataframe.pickle', 'wb') as to_write:\n",
    "    pickle.dump(df, to_write)"
   ]
  },
  {
   "cell_type": "code",
   "execution_count": null,
   "id": "12496607",
   "metadata": {},
   "outputs": [],
   "source": []
  },
  {
   "cell_type": "code",
   "execution_count": null,
   "id": "0b95972c",
   "metadata": {},
   "outputs": [],
   "source": []
  },
  {
   "cell_type": "code",
   "execution_count": null,
   "id": "da218993",
   "metadata": {},
   "outputs": [],
   "source": []
  }
 ],
 "metadata": {
  "kernelspec": {
   "display_name": "Python 3",
   "language": "python",
   "name": "python3"
  },
  "language_info": {
   "codemirror_mode": {
    "name": "ipython",
    "version": 3
   },
   "file_extension": ".py",
   "mimetype": "text/x-python",
   "name": "python",
   "nbconvert_exporter": "python",
   "pygments_lexer": "ipython3",
   "version": "3.8.11"
  }
 },
 "nbformat": 4,
 "nbformat_minor": 5
}
