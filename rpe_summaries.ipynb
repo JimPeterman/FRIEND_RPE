{
 "cells": [
  {
   "cell_type": "code",
   "execution_count": 1,
   "id": "dd87801c",
   "metadata": {},
   "outputs": [],
   "source": [
    "import pandas as pd\n",
    "import numpy as np\n",
    "import pickle\n"
   ]
  },
  {
   "cell_type": "markdown",
   "id": "e2b1a920",
   "metadata": {},
   "source": [
    "# Create RPE reference standards.\n",
    "\n",
    "Create summaries of the dataset and save as an Excel file (for easy copy/paste into manuscript)."
   ]
  },
  {
   "cell_type": "code",
   "execution_count": 2,
   "id": "3e4b2078",
   "metadata": {},
   "outputs": [],
   "source": [
    "with open('../data/cleaned_dataframe.pickle','rb') as read_file:\n",
    "    df = pickle.load(read_file)"
   ]
  },
  {
   "cell_type": "code",
   "execution_count": 9,
   "id": "88e52e3c",
   "metadata": {},
   "outputs": [
    {
     "name": "stdout",
     "output_type": "stream",
     "text": [
      "<class 'pandas.core.frame.DataFrame'>\n",
      "Int64Index: 9551 entries, 4116 to 120626\n",
      "Data columns (total 24 columns):\n",
      " #   Column          Non-Null Count  Dtype         \n",
      "---  ------          --------------  -----         \n",
      " 0   ID              9304 non-null   object        \n",
      " 1   Facility        9551 non-null   object        \n",
      " 2   testdate        9373 non-null   datetime64[ns]\n",
      " 3   ageattest       9551 non-null   float64       \n",
      " 4   Gender          9551 non-null   object        \n",
      " 5   Country         9551 non-null   object        \n",
      " 6   ethnicgroup     4517 non-null   object        \n",
      " 7   height          9551 non-null   float64       \n",
      " 8   weight          9551 non-null   float64       \n",
      " 9   BMI             9551 non-null   float64       \n",
      " 10  BetaMed         9286 non-null   float64       \n",
      " 11  ANYCVD          9551 non-null   float64       \n",
      " 12  COPD            8667 non-null   float64       \n",
      " 13  Mode            9551 non-null   object        \n",
      " 14  max_load_watts  755 non-null    object        \n",
      " 15  max_rer         9551 non-null   float64       \n",
      " 16  vo2_l_min       9137 non-null   float64       \n",
      " 17  vo2_ml_kg_min   9551 non-null   float64       \n",
      " 18  max_hr          9544 non-null   float64       \n",
      " 19  peak_rpe        9551 non-null   int64         \n",
      " 20  FRIEND_perc     9551 non-null   float64       \n",
      " 21  age_group       9551 non-null   object        \n",
      " 22  weightSI        9551 non-null   float64       \n",
      " 23  heightSI        9551 non-null   float64       \n",
      "dtypes: datetime64[ns](1), float64(14), int64(1), object(8)\n",
      "memory usage: 1.8+ MB\n"
     ]
    }
   ],
   "source": [
    "df.info()"
   ]
  },
  {
   "cell_type": "code",
   "execution_count": 10,
   "id": "43a8d713",
   "metadata": {},
   "outputs": [],
   "source": [
    "# Create a summary table with mean ± SD across ages, sexes, and test modes.\n",
    "\n",
    "\"\"\"\n",
    "Also added \"perc_rpe_18_above\" for this analysis which finds percentile of each \n",
    "group who met the 'classic' max test requirement of RPE >= 18.\n",
    "\"\"\" \n",
    "\n",
    "# Variables of interest (in typical order of presentation for publication).\n",
    "var_int = ['sampleSize', 'ageattest', 'BMI',\\\n",
    "           'vo2_ml_kg_min', 'max_hr',\\\n",
    "           'max_rer', 'peak_rpe', \n",
    "           'perc_rpe_18_above', 'perc_rpe_17_above']\n",
    "\n",
    "# Including a summary of ALL ages too.\n",
    "age_int = ['20s','30s','40s','50s','60s','70s', '80s', 'All']\n",
    "sex_int = ['Male','Female']\n",
    "mode_int = ['TM','CY']\n",
    "\n",
    "# Create dataframe to write the results to.\n",
    "dfSum = pd.DataFrame(index=var_int)\n",
    "dfSum.index.name = 'Variables'            \n",
    "\n",
    "for modes in mode_int:\n",
    "    for sexes in sex_int:\n",
    "        for ages in age_int:\n",
    "            if ages == 'All':\n",
    "                df_temp = df[(df['Mode']==modes) & (df['Gender']==sexes)]\n",
    "            else:                      \n",
    "                df_temp = df[(df['Mode']==modes) & (df['Gender']==sexes) & \\\n",
    "                         (df['age_group']==ages)]\n",
    "            \n",
    "            for var in var_int:\n",
    "                if var == 'sampleSize':\n",
    "                    new_label = f'{modes}_{sexes}_{ages}'\n",
    "                    samp_size = int(len(df_temp['vo2_ml_kg_min']))\n",
    "                    dfSum.loc[var, new_label] = f'n = {samp_size:,}'\n",
    "                elif var == 'max_rer' or var == 'vo2_l_min':\n",
    "                    temp_mean = f'{round(df_temp[var].mean(),2):.2f}'\n",
    "                    temp_sd = f'{round(df_temp[var].std(),2):.2f}'\n",
    "                    new_label = f'{modes}_{sexes}_{ages}'\n",
    "                    dfSum.loc[var, new_label] = f'{temp_mean} ± {temp_sd}'\n",
    "                elif var == 'max_load_watts':\n",
    "                    temp_mean = f'{round(df_temp[var].mean(),0):.0f}'\n",
    "                    temp_sd = f'{round(df_temp[var].std(),0):.0f}'\n",
    "                    new_label = f'{modes}_{sexes}_{ages}'\n",
    "                    dfSum.loc[var, new_label] = f'{temp_mean} ± {temp_sd}'    \n",
    "                elif var == 'perc_rpe_18_above':\n",
    "                    met_criteria = len(df_temp[df_temp['peak_rpe'] >= 18])\n",
    "                    new_label = f'{modes}_{sexes}_{ages}'\n",
    "                    dfSum.loc[var, new_label] = f'{(met_criteria / len(df_temp)*100):.0f}'\n",
    "                elif var == 'perc_rpe_17_above':\n",
    "                    met_criteria = len(df_temp[df_temp['peak_rpe'] >= 17])\n",
    "                    new_label = f'{modes}_{sexes}_{ages}'\n",
    "                    dfSum.loc[var, new_label] = f'{(met_criteria / len(df_temp)*100):.0f}'\n",
    "                else:\n",
    "                    temp_mean = f'{round(df_temp[var].mean(),1):.1f}'\n",
    "                    temp_sd = f'{round(df_temp[var].std(),1):.1f}'\n",
    "                    new_label = f'{modes}_{sexes}_{ages}'\n",
    "                    dfSum.loc[var, new_label] = f'{temp_mean} ± {temp_sd}'\n",
    "\n",
    "# dfSum"
   ]
  },
  {
   "cell_type": "code",
   "execution_count": 11,
   "id": "2cb413b2",
   "metadata": {
    "scrolled": true
   },
   "outputs": [],
   "source": [
    "# Create a summary table with percentiles of RPE across ages, sexes, and test modes.\n",
    "\n",
    "# Percentiles of interest and grouping variables.\n",
    "perc_int = [25, 50, 75]\n",
    "# perc_int = list(np.arange(10,100, 10))\n",
    "perc_int.reverse()\n",
    "\n",
    "age_int = ['20s','30s','40s','50s','60s','70s','80s']\n",
    "sex_int = ['Male','Female']\n",
    "mode_int = ['TM','CY']\n",
    "\n",
    "# Create dataframe to write the results to.\n",
    "dfPerc = pd.DataFrame(index = perc_int)\n",
    "dfPerc.index.name = 'Percentiles'            \n",
    "\n",
    "for modes in mode_int:\n",
    "    for sexes in sex_int:\n",
    "        for ages in age_int:\n",
    "            new_col_name = modes +'_' + sexes + '_' + ages \n",
    "            dfPerc[new_col_name] = None\n",
    "            dfTemp = df[(df['Mode']==modes) & (df['Gender']==sexes) \\\n",
    "                            & (df['age_group']==ages)]\n",
    "            \n",
    "            for percs in perc_int:\n",
    "                dfPerc.loc[percs, new_col_name] \\\n",
    "                = f\"{round(np.percentile(dfTemp['peak_rpe'], percs),1):.0f}\"\n",
    "\n",
    "# dfPerc"
   ]
  },
  {
   "cell_type": "code",
   "execution_count": 12,
   "id": "217e5006",
   "metadata": {},
   "outputs": [],
   "source": [
    "# Create a dataframe with basic cohort summaries for the text of the manuscript.\n",
    "# Saving as dataframe so I can have everything in a single Excel file.\n",
    "\n",
    "counts_text = []\n",
    "\n",
    "counts_text.append(f\"Total tests: {len(df):,}\")\n",
    "counts_text.append(f\"Total tests in Males: {len(df[df.Gender == 'Male']):,} ({(len(df[df.Gender == 'Male'])/len(df)* 100):.0f}%)\")\n",
    "counts_text.append(f\"Total tests in Females: {len(df[df.Gender == 'Female']):,} ({(len(df[df.Gender == 'Female'])/len(df)* 100):.0f}%)\")\n",
    "counts_text.append(\"\\n\")\n",
    "counts_text.append(f\"Total TM tests: {len(df[df.Mode == 'TM']):,} ({(len(df[df.Mode == 'TM'])/len(df)* 100):.0f}%)\")\n",
    "counts_text.append(f\"TM tests in MALES: {len(df[(df.Mode == 'TM') & (df.Gender == 'Male')]):,}\")\n",
    "counts_text.append(f\"TM tests in FEMALES: {len(df[(df.Mode == 'TM') & (df.Gender == 'Female')]):,}\")\n",
    "counts_text.append(\"\\n\")\n",
    "counts_text.append(f\"Total CY tests: {len(df[df.Mode == 'CY']):,} ({(len(df[df.Mode == 'CY'])/len(df)* 100):.0f}%)\")\n",
    "counts_text.append(f\"CY tests in MALES: {len(df[(df.Mode == 'CY') & (df.Gender == 'Male')]):,}\")\n",
    "counts_text.append(f\"CY tests in FEMALES: {len(df[(df.Mode == 'CY') & (df.Gender == 'Female')]):,}\")\n",
    "counts_text.append(\"\\n\")\n",
    "counts_text.append(f\"Tests with ethnicity listed: {len(df[~df.ethnicgroup.isna()]):,} ({(len(df[~df.ethnicgroup.isna()])/len(df))*100:.0f}%)\")\n",
    "counts_text.append(f\"% White ethnicity: {(len(df[df.ethnicgroup == 'White, not of Hispanic origin'])/len(df[~df.ethnicgroup.isna()])*100):.0f}%\")\n",
    "counts_text.append(\"\\n\")\n",
    "counts_text.append(f\"Earliest test date: {min(df.testdate)}\")\n",
    "counts_text.append(f\"Latest test date: {max(df.testdate)}\")\n",
    "counts_text.append(f\"Number of sites: {len(df.Facility.unique())}\")\n",
    "counts_text.append(f\"List of sites: {df.Facility.unique()}\")\n",
    "\n",
    "df_cohort_counts = pd.DataFrame(counts_text)\n"
   ]
  },
  {
   "cell_type": "code",
   "execution_count": null,
   "id": "883f5291",
   "metadata": {},
   "outputs": [],
   "source": []
  },
  {
   "cell_type": "markdown",
   "id": "f7f67262",
   "metadata": {},
   "source": [
    "## Save the output from the tables above."
   ]
  },
  {
   "cell_type": "code",
   "execution_count": 13,
   "id": "45501b50",
   "metadata": {},
   "outputs": [],
   "source": [
    "writer = pd.ExcelWriter('../FRIEND_RPE_5_16_22_.xlsx', engine='xlsxwriter')\n",
    "# writer = pd.ExcelWriter('FRIENDupdates_for_percentiles_.xlsx', engine='xlsxwriter')\n",
    "\n",
    "dfSum.to_excel(writer, sheet_name='Averages')\n",
    "dfPerc.to_excel(writer, sheet_name='Percentiles')\n",
    "df_cohort_counts.to_excel(writer, sheet_name=\"Cohort_Counts\")\n",
    "\n",
    "writer.save()"
   ]
  },
  {
   "cell_type": "code",
   "execution_count": null,
   "id": "eb140337",
   "metadata": {},
   "outputs": [],
   "source": []
  },
  {
   "cell_type": "code",
   "execution_count": null,
   "id": "ccdf9715",
   "metadata": {},
   "outputs": [],
   "source": []
  }
 ],
 "metadata": {
  "kernelspec": {
   "display_name": "Python 3",
   "language": "python",
   "name": "python3"
  },
  "language_info": {
   "codemirror_mode": {
    "name": "ipython",
    "version": 3
   },
   "file_extension": ".py",
   "mimetype": "text/x-python",
   "name": "python",
   "nbconvert_exporter": "python",
   "pygments_lexer": "ipython3",
   "version": "3.8.11"
  }
 },
 "nbformat": 4,
 "nbformat_minor": 5
}
